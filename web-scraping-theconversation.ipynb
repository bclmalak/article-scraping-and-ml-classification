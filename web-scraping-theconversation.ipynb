{
 "cells": [
  {
   "cell_type": "markdown",
   "id": "5bb9e02a",
   "metadata": {},
   "source": [
    "## Web Scrapping"
   ]
  },
  {
   "cell_type": "code",
   "execution_count": 8,
   "id": "5d56924b",
   "metadata": {},
   "outputs": [],
   "source": [
    "from selenium import webdriver\n",
    "from selenium.webdriver.common.by import By\n",
    "\n",
    "import requests\n",
    "from bs4 import BeautifulSoup\n",
    "\n",
    "import pandas as pd"
   ]
  },
  {
   "cell_type": "code",
   "execution_count": 9,
   "id": "8e05fc5c",
   "metadata": {},
   "outputs": [],
   "source": [
    "titles = []\n",
    "articles = []\n",
    "categories = []\n"
   ]
  },
  {
   "cell_type": "markdown",
   "id": "0f4e353d",
   "metadata": {},
   "source": [
    "## Site the conversation"
   ]
  },
  {
   "cell_type": "code",
   "execution_count": 95,
   "id": "683aabd1",
   "metadata": {},
   "outputs": [],
   "source": [
    "url = 'https://theconversation.com/africa'"
   ]
  },
  {
   "cell_type": "code",
   "execution_count": 96,
   "id": "09640803",
   "metadata": {},
   "outputs": [],
   "source": [
    "response = requests.get(url)\n",
    "links = []\n",
    "if response.status_code == 200:\n",
    "    soup = BeautifulSoup(response.text, 'html.parser')\n",
    "    navbar = soup.body.find_all('nav',{'class':'small-sidebar-group sections-sidebar-group'})\n",
    "    for nav in navbar:\n",
    "        l= nav.find_all('a')\n",
    "    links = [i['href'] for i in l]\n"
   ]
  },
  {
   "cell_type": "code",
   "execution_count": 97,
   "id": "15d3c89f",
   "metadata": {},
   "outputs": [
    {
     "data": {
      "text/plain": [
       "[]"
      ]
     },
     "execution_count": 97,
     "metadata": {},
     "output_type": "execute_result"
    }
   ],
   "source": [
    "links"
   ]
  },
  {
   "cell_type": "code",
   "execution_count": 93,
   "id": "d4a4df93",
   "metadata": {},
   "outputs": [],
   "source": [
    "article_links = []\n",
    "url = 'https://theconversation.com'\n",
    "for link in links:\n",
    "    path = url+link\n",
    "    response = requests.get(path)\n",
    "    if response.status_code == 200:\n",
    "        soup = BeautifulSoup(response.text, 'html.parser')\n",
    "        for s in soup.body.find_all('h2'):\n",
    "            article_links.append(s.a['href'])\n",
    "    "
   ]
  },
  {
   "cell_type": "code",
   "execution_count": 94,
   "id": "0e244372",
   "metadata": {},
   "outputs": [
    {
     "data": {
      "text/plain": [
       "0"
      ]
     },
     "execution_count": 94,
     "metadata": {},
     "output_type": "execute_result"
    }
   ],
   "source": [
    "len(article_links)"
   ]
  },
  {
   "cell_type": "code",
   "execution_count": 15,
   "id": "397315aa",
   "metadata": {},
   "outputs": [],
   "source": [
    "driver = webdriver.Chrome()"
   ]
  },
  {
   "cell_type": "code",
   "execution_count": 16,
   "id": "0ea4694f",
   "metadata": {},
   "outputs": [],
   "source": [
    "for a in article_links:\n",
    "    path = url+a\n",
    "    driver.get(path)\n",
    "    titre = driver.find_elements(By.TAG_NAME,'h1')\n",
    "    titles.append(titre[0].text)\n",
    "    contenu = driver.find_elements(By.XPATH,'//*[@itemprop=\"articleBody\"]')\n",
    "    articles.append(contenu[0].text)\n",
    "    response = requests.get(path)\n",
    "    if response.status_code == 200:\n",
    "        soup = BeautifulSoup(response.text, 'html.parser')\n",
    "        try:\n",
    "            categories.append(soup.body.find_all('a',{'class':'active'})[0].text.lower())\n",
    "        except:\n",
    "            categories.append('Null')\n",
    "    \n",
    "    "
   ]
  },
  {
   "cell_type": "code",
   "execution_count": 17,
   "id": "b3f2f326",
   "metadata": {},
   "outputs": [
    {
     "data": {
      "text/plain": [
       "443"
      ]
     },
     "execution_count": 17,
     "metadata": {},
     "output_type": "execute_result"
    }
   ],
   "source": [
    "len(titles)"
   ]
  },
  {
   "cell_type": "code",
   "execution_count": 18,
   "id": "c5627e25",
   "metadata": {},
   "outputs": [
    {
     "data": {
      "text/plain": [
       "443"
      ]
     },
     "execution_count": 18,
     "metadata": {},
     "output_type": "execute_result"
    }
   ],
   "source": [
    "len(articles)"
   ]
  },
  {
   "cell_type": "code",
   "execution_count": 19,
   "id": "ba8cc534",
   "metadata": {},
   "outputs": [
    {
     "data": {
      "text/plain": [
       "443"
      ]
     },
     "execution_count": 19,
     "metadata": {},
     "output_type": "execute_result"
    }
   ],
   "source": [
    "len(categories)"
   ]
  },
  {
   "cell_type": "code",
   "execution_count": 20,
   "id": "c55931c2",
   "metadata": {},
   "outputs": [],
   "source": [
    "data={'article':articles,'titre':titles,'categorie':categories}"
   ]
  },
  {
   "cell_type": "code",
   "execution_count": 21,
   "id": "4041b5b2",
   "metadata": {},
   "outputs": [],
   "source": [
    "df = pd.DataFrame(data)"
   ]
  },
  {
   "cell_type": "code",
   "execution_count": 22,
   "id": "fba351b6",
   "metadata": {},
   "outputs": [
    {
     "name": "stdout",
     "output_type": "stream",
     "text": [
      "<class 'pandas.core.frame.DataFrame'>\n",
      "RangeIndex: 443 entries, 0 to 442\n",
      "Data columns (total 3 columns):\n",
      " #   Column     Non-Null Count  Dtype \n",
      "---  ------     --------------  ----- \n",
      " 0   article    443 non-null    object\n",
      " 1   titre      443 non-null    object\n",
      " 2   categorie  443 non-null    object\n",
      "dtypes: object(3)\n",
      "memory usage: 10.5+ KB\n"
     ]
    }
   ],
   "source": [
    "df.info()"
   ]
  },
  {
   "cell_type": "code",
   "execution_count": 24,
   "id": "5750b0f3",
   "metadata": {},
   "outputs": [
    {
     "data": {
      "text/plain": [
       "379"
      ]
     },
     "execution_count": 24,
     "metadata": {},
     "output_type": "execute_result"
    }
   ],
   "source": [
    "len(df.article.unique())"
   ]
  },
  {
   "cell_type": "code",
   "execution_count": 26,
   "id": "5c4b7baf",
   "metadata": {},
   "outputs": [
    {
     "data": {
      "text/plain": [
       "politics                71\n",
       "environment + energy    67\n",
       "arts + culture          65\n",
       "science + tech          57\n",
       "business + economy      49\n",
       "education               43\n",
       "Null                    39\n",
       "health + medicine       37\n",
       "home page               15\n",
       "Name: categorie, dtype: int64"
      ]
     },
     "execution_count": 26,
     "metadata": {},
     "output_type": "execute_result"
    }
   ],
   "source": [
    "df.categorie.value_counts()"
   ]
  },
  {
   "cell_type": "code",
   "execution_count": 27,
   "id": "e5378df2",
   "metadata": {},
   "outputs": [],
   "source": [
    "df.to_csv('Conversation_data.csv',index= False)"
   ]
  },
  {
   "cell_type": "code",
   "execution_count": null,
   "id": "c2b9f1ab",
   "metadata": {},
   "outputs": [],
   "source": []
  }
 ],
 "metadata": {
  "kernelspec": {
   "display_name": "Python 3 (ipykernel)",
   "language": "python",
   "name": "python3"
  },
  "language_info": {
   "codemirror_mode": {
    "name": "ipython",
    "version": 3
   },
   "file_extension": ".py",
   "mimetype": "text/x-python",
   "name": "python",
   "nbconvert_exporter": "python",
   "pygments_lexer": "ipython3",
   "version": "3.9.12"
  }
 },
 "nbformat": 4,
 "nbformat_minor": 5
}
