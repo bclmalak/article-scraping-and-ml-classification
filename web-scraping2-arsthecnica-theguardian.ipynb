{
 "cells": [
  {
   "cell_type": "code",
   "execution_count": 1,
   "id": "2b6d6c3c",
   "metadata": {},
   "outputs": [],
   "source": [
    "from selenium import webdriver\n",
    "from selenium.webdriver.common.by import By\n",
    "\n",
    "import requests\n",
    "from bs4 import BeautifulSoup\n",
    "\n",
    "import pandas as pd"
   ]
  },
  {
   "cell_type": "code",
   "execution_count": 2,
   "id": "d8cd7aea",
   "metadata": {},
   "outputs": [],
   "source": [
    "titles = []\n",
    "articles = []\n",
    "categories = []\n"
   ]
  },
  {
   "cell_type": "code",
   "execution_count": 3,
   "id": "bbcd8b5d",
   "metadata": {},
   "outputs": [],
   "source": [
    "url = \"https://arstechnica.com/\""
   ]
  },
  {
   "cell_type": "code",
   "execution_count": 4,
   "id": "006677a3",
   "metadata": {},
   "outputs": [],
   "source": [
    "response = requests.get(url)\n",
    "links = []\n",
    "if response.status_code == 200:\n",
    "    soup = BeautifulSoup(response.text, 'html.parser')\n",
    "    links = [s['href'] for s in soup.body.nav.find_all('a')]"
   ]
  },
  {
   "cell_type": "code",
   "execution_count": 5,
   "id": "85773968",
   "metadata": {},
   "outputs": [],
   "source": [
    "article_links = []\n",
    "for link in links:\n",
    "    path = url + link\n",
    " \n",
    "    for i in range(6):\n",
    "        if(requests.get(path).status_code == 200):\n",
    "            soup = BeautifulSoup(response.text, 'html.parser')\n",
    "            for s in soup.body.find_all('h2'):\n",
    "                try:\n",
    "                    article_links.append(s.a['href'])\n",
    "                except:\n",
    "                    article_links.append('Null')\n",
    "        path = path+'page/'+str(i)+'/'\n",
    "                    \n",
    "           \n",
    "                "
   ]
  },
  {
   "cell_type": "code",
   "execution_count": 11,
   "id": "d019d36a",
   "metadata": {},
   "outputs": [
    {
     "data": {
      "text/plain": [
       "1406"
      ]
     },
     "execution_count": 11,
     "metadata": {},
     "output_type": "execute_result"
    }
   ],
   "source": [
    "len(article_links)"
   ]
  },
  {
   "cell_type": "code",
   "execution_count": 12,
   "id": "c154dadc",
   "metadata": {},
   "outputs": [],
   "source": [
    "driver = webdriver.Chrome()\n",
    "for a in article_links:\n",
    "    path = url+a\n",
    "    driver.get(path)\n",
    "    titre = driver.find_elements(By.TAG_NAME,'h1')\n",
    "    titles.append(titre[0].text)\n",
    "    contenu = driver.find_elements(By.XPATH,'//*[@itemprop=\"articleBody\"]')\n",
    "    articles.append(contenu[0].text)\n",
    "    response = requests.get(path)\n",
    "    if response.status_code == 200:\n",
    "        soup = BeautifulSoup(response.text, 'html.parser')\n",
    "        try:\n",
    "            categories.append(soup.body.find_all('a',{'class':'active'})[0].text.lower())\n",
    "        except:\n",
    "            categories.append('Null')\n",
    "    \n",
    "    "
   ]
  },
  {
   "cell_type": "code",
   "execution_count": 14,
   "id": "f75c11c1",
   "metadata": {},
   "outputs": [
    {
     "data": {
      "text/plain": [
       "1406"
      ]
     },
     "execution_count": 14,
     "metadata": {},
     "output_type": "execute_result"
    }
   ],
   "source": [
    "len(articles)"
   ]
  },
  {
   "cell_type": "code",
   "execution_count": 15,
   "id": "3cfb9b95",
   "metadata": {},
   "outputs": [],
   "source": [
    "data={'article':articles,'titre':titles,'categorie':categories}"
   ]
  },
  {
   "cell_type": "code",
   "execution_count": 16,
   "id": "83d5652f",
   "metadata": {},
   "outputs": [],
   "source": [
    "df = pd.DataFrame(data)"
   ]
  },
  {
   "cell_type": "code",
   "execution_count": 34,
   "id": "63b938b8",
   "metadata": {},
   "outputs": [
    {
     "name": "stdout",
     "output_type": "stream",
     "text": [
      "<class 'pandas.core.frame.DataFrame'>\n",
      "RangeIndex: 1406 entries, 0 to 1405\n",
      "Data columns (total 3 columns):\n",
      " #   Column     Non-Null Count  Dtype \n",
      "---  ------     --------------  ----- \n",
      " 0   article    1406 non-null   object\n",
      " 1   titre      1406 non-null   object\n",
      " 2   categorie  1406 non-null   object\n",
      "dtypes: object(3)\n",
      "memory usage: 33.1+ KB\n"
     ]
    }
   ],
   "source": [
    "df.info()"
   ]
  },
  {
   "cell_type": "code",
   "execution_count": 37,
   "id": "9e210cd9",
   "metadata": {},
   "outputs": [
    {
     "data": {
      "text/plain": [
       "158"
      ]
     },
     "execution_count": 37,
     "metadata": {},
     "output_type": "execute_result"
    }
   ],
   "source": [
    "len(df.article.unique())"
   ]
  },
  {
   "cell_type": "code",
   "execution_count": 23,
   "id": "18dcbaff",
   "metadata": {},
   "outputs": [],
   "source": [
    "df.to_csv('arstechnica_data.csv',index= False)"
   ]
  },
  {
   "cell_type": "code",
   "execution_count": null,
   "id": "2f717300",
   "metadata": {},
   "outputs": [],
   "source": []
  },
  {
   "cell_type": "code",
   "execution_count": 198,
   "id": "9ca057b5",
   "metadata": {},
   "outputs": [],
   "source": [
    "titles = []\n",
    "articles = []\n",
    "categories = []\n"
   ]
  },
  {
   "cell_type": "code",
   "execution_count": 102,
   "id": "0b04d515",
   "metadata": {},
   "outputs": [],
   "source": [
    "url = \"https://www.theguardian.com/international\""
   ]
  },
  {
   "cell_type": "code",
   "execution_count": 151,
   "id": "1d668289",
   "metadata": {},
   "outputs": [],
   "source": [
    "driver = webdriver.Chrome()"
   ]
  },
  {
   "cell_type": "code",
   "execution_count": null,
   "id": "ac4c57f0",
   "metadata": {},
   "outputs": [],
   "source": []
  },
  {
   "cell_type": "code",
   "execution_count": 116,
   "id": "6a5041bc",
   "metadata": {},
   "outputs": [],
   "source": [
    "response = requests.get(url)\n",
    "links = []\n",
    "if response.status_code == 200:\n",
    "    soup = BeautifulSoup(response.text, 'html.parser')\n",
    "    links = [s['href'] for s in soup.body.nav.find_all('a')]"
   ]
  },
  {
   "cell_type": "code",
   "execution_count": 125,
   "id": "1afa4709",
   "metadata": {},
   "outputs": [],
   "source": [
    "for link in links:\n",
    "    if (not (link.startswith('/'))):\n",
    "        links.remove(link)"
   ]
  },
  {
   "cell_type": "code",
   "execution_count": 167,
   "id": "e5317fe1",
   "metadata": {},
   "outputs": [],
   "source": [
    "article_links = []\n",
    "for link in links:\n",
    "    path = url + link\n",
    "    driver.get(path)\n",
    "    liens = driver.find_elements(By.CLASS_NAME,'dcr-lv2v9o')\n",
    "    for a in liens:\n",
    "        article_links.append(a.get_attribute(\"href\"))"
   ]
  },
  {
   "cell_type": "code",
   "execution_count": 168,
   "id": "4c7047bc",
   "metadata": {},
   "outputs": [
    {
     "data": {
      "text/plain": [
       "339"
      ]
     },
     "execution_count": 168,
     "metadata": {},
     "output_type": "execute_result"
    }
   ],
   "source": [
    "len(article_links)"
   ]
  },
  {
   "cell_type": "code",
   "execution_count": 221,
   "id": "87628e71",
   "metadata": {},
   "outputs": [],
   "source": [
    "for a in  article_links:\n",
    "    driver.get(a)\n",
    "    texte = \"\"\n",
    "    titre = driver.find_elements(By.TAG_NAME,'h1')\n",
    "    try:\n",
    "        titles.append(titre[0].text)\n",
    "    except:\n",
    "        titles.append('Null')\n",
    "    contenu = driver.find_elements(By.TAG_NAME,'p')\n",
    "    try:\n",
    "        for c in contenu:\n",
    "            texte +=c.text\n",
    "        articles.append(texte)\n",
    "    except:\n",
    "        articles.append('Null')\n",
    "    categorie = driver.find_elements(By.CLASS_NAME,'content__label__link')\n",
    "    try:\n",
    "        categories.append(categorie[0].text)\n",
    "    except:\n",
    "        categories.append('Null')\n",
    "    \n",
    "    \n",
    "\n",
    "\n",
    "    "
   ]
  },
  {
   "cell_type": "code",
   "execution_count": 222,
   "id": "a2b852b8",
   "metadata": {},
   "outputs": [
    {
     "data": {
      "text/plain": [
       "709"
      ]
     },
     "execution_count": 222,
     "metadata": {},
     "output_type": "execute_result"
    }
   ],
   "source": [
    "len(articles)"
   ]
  },
  {
   "cell_type": "code",
   "execution_count": 223,
   "id": "d105b2dd",
   "metadata": {},
   "outputs": [
    {
     "data": {
      "text/plain": [
       "709"
      ]
     },
     "execution_count": 223,
     "metadata": {},
     "output_type": "execute_result"
    }
   ],
   "source": [
    "len(titles)"
   ]
  },
  {
   "cell_type": "code",
   "execution_count": 224,
   "id": "506f7a2f",
   "metadata": {},
   "outputs": [
    {
     "data": {
      "text/plain": [
       "709"
      ]
     },
     "execution_count": 224,
     "metadata": {},
     "output_type": "execute_result"
    }
   ],
   "source": [
    "len(categories)"
   ]
  },
  {
   "cell_type": "code",
   "execution_count": 259,
   "id": "32a61279",
   "metadata": {},
   "outputs": [],
   "source": [
    "data={'article':articles,'titre':titles,'categorie':categories}"
   ]
  },
  {
   "cell_type": "code",
   "execution_count": 260,
   "id": "656d106d",
   "metadata": {},
   "outputs": [],
   "source": [
    "df = pd.DataFrame(data)"
   ]
  },
  {
   "cell_type": "code",
   "execution_count": 261,
   "id": "156954b3",
   "metadata": {},
   "outputs": [
    {
     "name": "stdout",
     "output_type": "stream",
     "text": [
      "<class 'pandas.core.frame.DataFrame'>\n",
      "RangeIndex: 709 entries, 0 to 708\n",
      "Data columns (total 3 columns):\n",
      " #   Column     Non-Null Count  Dtype \n",
      "---  ------     --------------  ----- \n",
      " 0   article    709 non-null    object\n",
      " 1   titre      709 non-null    object\n",
      " 2   categorie  709 non-null    object\n",
      "dtypes: object(3)\n",
      "memory usage: 16.7+ KB\n"
     ]
    }
   ],
   "source": [
    "df.info()"
   ]
  },
  {
   "cell_type": "code",
   "execution_count": 262,
   "id": "c28587b6",
   "metadata": {},
   "outputs": [
    {
     "data": {
      "text/plain": [
       "True     480\n",
       "False    229\n",
       "Name: article, dtype: int64"
      ]
     },
     "execution_count": 262,
     "metadata": {},
     "output_type": "execute_result"
    }
   ],
   "source": [
    "df.article.duplicated().value_counts()"
   ]
  },
  {
   "cell_type": "code",
   "execution_count": 265,
   "id": "13effbec",
   "metadata": {},
   "outputs": [],
   "source": [
    "df = df.drop(range(370))"
   ]
  },
  {
   "cell_type": "code",
   "execution_count": 268,
   "id": "acb9b2ae",
   "metadata": {},
   "outputs": [
    {
     "data": {
      "text/plain": [
       "115"
      ]
     },
     "execution_count": 268,
     "metadata": {},
     "output_type": "execute_result"
    }
   ],
   "source": [
    "len(df.article.unique())"
   ]
  },
  {
   "cell_type": "code",
   "execution_count": 269,
   "id": "7847db00",
   "metadata": {},
   "outputs": [],
   "source": [
    "df.to_csv('theguardian_data.csv',index= False)"
   ]
  },
  {
   "cell_type": "code",
   "execution_count": null,
   "id": "c8821416",
   "metadata": {},
   "outputs": [],
   "source": []
  }
 ],
 "metadata": {
  "kernelspec": {
   "display_name": "Python 3 (ipykernel)",
   "language": "python",
   "name": "python3"
  },
  "language_info": {
   "codemirror_mode": {
    "name": "ipython",
    "version": 3
   },
   "file_extension": ".py",
   "mimetype": "text/x-python",
   "name": "python",
   "nbconvert_exporter": "python",
   "pygments_lexer": "ipython3",
   "version": "3.9.12"
  }
 },
 "nbformat": 4,
 "nbformat_minor": 5
}
